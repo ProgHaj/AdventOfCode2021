{
 "cells": [
  {
   "cell_type": "code",
   "execution_count": null,
   "metadata": {},
   "outputs": [],
   "source": [
    "forward 5\n",
    "down 5\n",
    "forward 8\n",
    "up 3\n",
    "down 8\n",
    "forward 2"
   ]
  },
  {
   "cell_type": "code",
   "execution_count": 14,
   "metadata": {},
   "outputs": [],
   "source": [
    "class Coordinates():\n",
    "    def __init__(self):\n",
    "        self.x = 0\n",
    "        self.y = 0\n",
    "\n",
    "    def direction(self, direction, val):\n",
    "        if direction == \"forward\":\n",
    "            self.x += val\n",
    "        elif direction == \"down\":\n",
    "            self.y += val\n",
    "        elif direction == \"up\":\n",
    "            self.y -= val\n",
    "        \n",
    "    def read_directions(self, fn):\n",
    "        with open(fn, \"r\") as f:\n",
    "            directions = f.readlines()\n",
    "            directions = [d.split() for d in directions]\n",
    "            for dir, val in directions:\n",
    "                self.direction(dir, int(val))\n",
    "\n",
    "    \n",
    "    def get_res(self):\n",
    "        return self.x * self.y\n",
    "\n",
    "    "
   ]
  },
  {
   "cell_type": "code",
   "execution_count": 15,
   "metadata": {},
   "outputs": [
    {
     "data": {
      "text/plain": [
       "2073315"
      ]
     },
     "execution_count": 15,
     "metadata": {},
     "output_type": "execute_result"
    }
   ],
   "source": [
    "coord = Coordinates()\n",
    "coord.read_directions(\"input\")\n",
    "coord.get_res()"
   ]
  },
  {
   "cell_type": "code",
   "execution_count": 12,
   "metadata": {},
   "outputs": [],
   "source": [
    "\n",
    "class CoordinatesP2():\n",
    "    def __init__(self):\n",
    "        self.x = 0\n",
    "        self.y = 0\n",
    "        self.aim = 0\n",
    "\n",
    "    def direction(self, direction, val):\n",
    "        if direction == \"forward\":\n",
    "            self.x += val\n",
    "            self.y += val * self.aim\n",
    "        elif direction == \"down\":\n",
    "            self.aim += val\n",
    "        elif direction == \"up\":\n",
    "            self.aim -= val\n",
    "        \n",
    "    def read_directions(self, fn):\n",
    "        with open(fn, \"r\") as f:\n",
    "            directions = f.readlines()\n",
    "            directions = [d.split() for d in directions]\n",
    "            for dir, val in directions:\n",
    "                self.direction(dir, int(val))\n",
    "    \n",
    "    \n",
    "    def get_res(self):\n",
    "        return self.x * self.y\n",
    "\n",
    "    "
   ]
  },
  {
   "cell_type": "code",
   "execution_count": 13,
   "metadata": {},
   "outputs": [
    {
     "data": {
      "text/plain": [
       "1840311528"
      ]
     },
     "execution_count": 13,
     "metadata": {},
     "output_type": "execute_result"
    }
   ],
   "source": [
    "\n",
    "coord = CoordinatesP2()\n",
    "coord.read_directions(\"input\")\n",
    "coord.get_res()"
   ]
  },
  {
   "cell_type": "code",
   "execution_count": null,
   "metadata": {},
   "outputs": [],
   "source": []
  }
 ],
 "metadata": {
  "interpreter": {
   "hash": "ae9c06ee8f6660436b39f4d5788816270e3661fed8724fc66440e0ff60722595"
  },
  "kernelspec": {
   "display_name": "Python 3.8.5 64-bit ('tf-gpu': conda)",
   "language": "python",
   "name": "python3"
  },
  "language_info": {
   "codemirror_mode": {
    "name": "ipython",
    "version": 3
   },
   "file_extension": ".py",
   "mimetype": "text/x-python",
   "name": "python",
   "nbconvert_exporter": "python",
   "pygments_lexer": "ipython3",
   "version": "3.8.5"
  },
  "orig_nbformat": 4
 },
 "nbformat": 4,
 "nbformat_minor": 2
}
